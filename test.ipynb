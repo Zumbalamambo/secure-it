{
 "cells": [
  {
   "cell_type": "code",
   "execution_count": 1,
   "metadata": {
    "collapsed": true
   },
   "outputs": [],
   "source": [
    "import cv2\n",
    "import numpy as np\n",
    "\n",
    "from objtect import *\n",
    "from tf_api import TFObjectDetectionAPI\n",
    "from object_detection.utils import visualization_utils as vis_util\n",
    "\n",
    "import matplotlib.pyplot as plt\n",
    "import glob\n",
    "%matplotlib inline\n"
   ]
  },
  {
   "cell_type": "code",
   "execution_count": 2,
   "metadata": {
    "collapsed": true
   },
   "outputs": [
    {
     "name": "stdout",
     "output_type": "stream",
     "text": [
      "['./data/images/people-walking-commercial-drive-landing.jpg']\n"
     ]
    }
   ],
   "source": [
    "\n",
    "PATH_TO_TEST_IMAGES_DIR = './data/images/'\n",
    "TEST_IMAGE_PATHS = glob.glob(PATH_TO_TEST_IMAGES_DIR+\"/*.jpg\")\n",
    "print(TEST_IMAGE_PATHS)\n",
    "IMAGE_SIZE = (12, 8)\n"
   ]
  },
  {
   "cell_type": "code",
   "execution_count": 3,
   "metadata": {},
   "outputs": [],
   "source": [
    "from matplotlib.patches import bbox_artist\n",
    "\n",
    "from tf_api import PRETRAINED_faster_rcnn_inception_v2_coco_2018_01_28\n",
    "\n",
    "detector = TFObjectDetectionAPI(PRETRAINED_faster_rcnn_inception_v2_coco_2018_01_28)\n",
    "detector.start()\n",
    "inPipe = detector.getInPipe()\n",
    "outPipe = detector.getOutPipe()\n",
    "\n",
    "# lst = list(detector.category_index.values())\n",
    "# print(lst[0])\n",
    "# for l in lst:\n",
    "#     print(str(l[\"id\"])+\":'\"+l[\"name\"]+\"',\")\n",
    "# print(type(lst), lst)\n",
    "\n"
   ]
  },
  {
   "cell_type": "code",
   "execution_count": 4,
   "metadata": {},
   "outputs": [
    {
     "name": "stdout",
     "output_type": "stream",
     "text": [
      "here too\n"
     ]
    },
    {
     "name": "stderr",
     "output_type": "stream",
     "text": [
      "Exception in thread Thread-4:\nTraceback (most recent call last):\n  File \"/home/allahbaksh/anaconda3/envs/SecureIt/lib/python3.5/threading.py\", line 914, in _bootstrap_inner\n    self.run()\n  File \"/home/allahbaksh/anaconda3/envs/SecureIt/lib/python3.5/threading.py\", line 862, in run\n    self._target(*self._args, **self._kwargs)\n  File \"/home/allahbaksh/PycharmProjects/SecureIt/tf_api.py\", line 203, in __start\n    count = self.detection_graph.get_tensor_by_name('count:0')\n  File \"/home/allahbaksh/anaconda3/envs/SecureIt/lib/python3.5/site-packages/tensorflow/python/framework/ops.py\", line 3789, in get_tensor_by_name\n    return self.as_graph_element(name, allow_tensor=True, allow_operation=False)\n  File \"/home/allahbaksh/anaconda3/envs/SecureIt/lib/python3.5/site-packages/tensorflow/python/framework/ops.py\", line 3613, in as_graph_element\n    return self._as_graph_element_locked(obj, allow_tensor, allow_operation)\n  File \"/home/allahbaksh/anaconda3/envs/SecureIt/lib/python3.5/site-packages/tensorflow/python/framework/ops.py\", line 3655, in _as_graph_element_locked\n    \"graph.\" % (repr(name), repr(op_name)))\nKeyError: \"The name 'count:0' refers to a Tensor which does not exist. The operation, 'count', does not exist in the graph.\"\n\n"
     ]
    }
   ],
   "source": [
    "for image_path in TEST_IMAGE_PATHS:\n",
    "    image = cv2.imread(image_path)\n",
    "    \n",
    "inPipe.push(image)\n"
   ]
  },
  {
   "cell_type": "code",
   "execution_count": 5,
   "metadata": {},
   "outputs": [
    {
     "ename": "KeyboardInterrupt",
     "evalue": "",
     "traceback": [
      "\u001b[0;31m---------------------------------------------------------------------------\u001b[0m",
      "\u001b[0;31mKeyboardInterrupt\u001b[0m                         Traceback (most recent call last)",
      "\u001b[0;32m<ipython-input-5-2bae8386bddf>\u001b[0m in \u001b[0;36m<module>\u001b[0;34m()\u001b[0m\n\u001b[1;32m      1\u001b[0m \u001b[0;34m\u001b[0m\u001b[0m\n\u001b[1;32m      2\u001b[0m \u001b[0;32mwhile\u001b[0m\u001b[0;34m(\u001b[0m\u001b[0;32mTrue\u001b[0m\u001b[0;34m)\u001b[0m\u001b[0;34m:\u001b[0m\u001b[0;34m\u001b[0m\u001b[0m\n\u001b[0;32m----> 3\u001b[0;31m     \u001b[0mret\u001b[0m \u001b[0;34m,\u001b[0m \u001b[0minference\u001b[0m \u001b[0;34m=\u001b[0m \u001b[0moutPipe\u001b[0m\u001b[0;34m.\u001b[0m\u001b[0mpull\u001b[0m\u001b[0;34m(\u001b[0m\u001b[0;34m)\u001b[0m\u001b[0;34m\u001b[0m\u001b[0m\n\u001b[0m\u001b[1;32m      4\u001b[0m     \u001b[0;32mif\u001b[0m \u001b[0;32mnot\u001b[0m \u001b[0mret\u001b[0m\u001b[0;34m:\u001b[0m\u001b[0;34m\u001b[0m\u001b[0m\n\u001b[1;32m      5\u001b[0m         \u001b[0;32mcontinue\u001b[0m\u001b[0;34m\u001b[0m\u001b[0m\n",
      "\u001b[0;32m/home/allahbaksh/PycharmProjects/SecureIt/Utils.py\u001b[0m in \u001b[0;36mpull\u001b[0;34m(self)\u001b[0m\n\u001b[1;32m     19\u001b[0m         \u001b[0mself\u001b[0m\u001b[0;34m.\u001b[0m\u001b[0mlst\u001b[0m\u001b[0;34m.\u001b[0m\u001b[0mappend\u001b[0m\u001b[0;34m(\u001b[0m\u001b[0mobj\u001b[0m\u001b[0;34m)\u001b[0m\u001b[0;34m\u001b[0m\u001b[0m\n\u001b[1;32m     20\u001b[0m \u001b[0;34m\u001b[0m\u001b[0m\n\u001b[0;32m---> 21\u001b[0;31m     \u001b[0;32mdef\u001b[0m \u001b[0mpull\u001b[0m\u001b[0;34m(\u001b[0m\u001b[0mself\u001b[0m\u001b[0;34m)\u001b[0m\u001b[0;34m:\u001b[0m\u001b[0;34m\u001b[0m\u001b[0m\n\u001b[0m\u001b[1;32m     22\u001b[0m         \u001b[0;32mif\u001b[0m \u001b[0mself\u001b[0m\u001b[0;34m.\u001b[0m\u001b[0mlst\u001b[0m\u001b[0;34m:\u001b[0m\u001b[0;34m\u001b[0m\u001b[0m\n\u001b[1;32m     23\u001b[0m             \u001b[0;32mreturn\u001b[0m \u001b[0;32mTrue\u001b[0m\u001b[0;34m,\u001b[0m \u001b[0mself\u001b[0m\u001b[0;34m.\u001b[0m\u001b[0mlst\u001b[0m\u001b[0;34m.\u001b[0m\u001b[0mpop\u001b[0m\u001b[0;34m(\u001b[0m\u001b[0;36m0\u001b[0m\u001b[0;34m)\u001b[0m\u001b[0;34m\u001b[0m\u001b[0m\n",
      "\u001b[0;31mKeyboardInterrupt\u001b[0m: "
     ],
     "output_type": "error"
    }
   ],
   "source": [
    "\n",
    "while(True):        \n",
    "    ret , inference = outPipe.pull()\n",
    "    if not ret:\n",
    "        continue\n",
    "    outimg = inference.getAnnotatedImage()\n",
    "    plt.imshow(cv2.cvtColor(outimg, cv2.COLOR_BGR2RGB))\n",
    "    plt.show()\n",
    "    \n",
    "    # decision = ObjectDetector(image, detector)\n",
    "    # img = image.copy()\n",
    "    # # print(type(img))\n",
    "    # for i in range(decision.length()):\n",
    "    #         inst_img = decision.getInstanceImage(i, types=['truck'])\n",
    "    #         if inst_img is not None:\n",
    "    #             try:\n",
    "    #                 print(decision.getInference(i).getClass().getType())\n",
    "    #                 plt.imshow(cv2.cvtColor(inst_img, cv2.COLOR_BGR2RGB))\n",
    "    #                 plt.show()\n",
    "    #             except:\n",
    "    #                 pass\n"
   ]
  },
  {
   "cell_type": "code",
   "execution_count": null,
   "metadata": {},
   "outputs": [],
   "source": []
  }
 ],
 "metadata": {
  "kernelspec": {
   "display_name": "Python 2",
   "language": "python",
   "name": "python2"
  },
  "language_info": {
   "codemirror_mode": {
    "name": "ipython",
    "version": 2
   },
   "file_extension": ".py",
   "mimetype": "text/x-python",
   "name": "python",
   "nbconvert_exporter": "python",
   "pygments_lexer": "ipython2",
   "version": "2.7.6"
  }
 },
 "nbformat": 4,
 "nbformat_minor": 0
}
